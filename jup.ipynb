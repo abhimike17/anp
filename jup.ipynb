{
 "cells": [
  {
   "cell_type": "code",
   "execution_count": 4,
   "metadata": {},
   "outputs": [],
   "source": [
    " # Table of Contents\n"
   ]
  },
  {
   "cell_type": "code",
   "execution_count": 5,
   "metadata": {},
   "outputs": [],
   "source": [
    "from collections import defaultdict,Counter, namedtuple\n",
    "from operator import itemgetter, attrgetter\n",
    "from urllib.request import Request, urlopen\n",
    "import json\n",
    "import pandas as pd\n",
    "import shlex\n",
    "import json\n",
    "from IPython.display import display, Javascript\n",
    "\n"
   ]
  },
  {
   "cell_type": "code",
   "execution_count": 6,
   "metadata": {},
   "outputs": [
    {
     "ename": "FileNotFoundError",
     "evalue": "[Errno 2] No such file or directory: 'csvjson (2).json'",
     "output_type": "error",
     "traceback": [
      "\u001b[0;31m---------------------------------------------------------------------------\u001b[0m",
      "\u001b[0;31mFileNotFoundError\u001b[0m                         Traceback (most recent call last)",
      "\u001b[0;32m<ipython-input-6-bbb74d9b0767>\u001b[0m in \u001b[0;36m<module>\u001b[0;34m()\u001b[0m\n\u001b[1;32m      3\u001b[0m \u001b[0;31m# json_obj = urlopen(api)\u001b[0m\u001b[0;34m\u001b[0m\u001b[0;34m\u001b[0m\u001b[0;34m\u001b[0m\u001b[0m\n\u001b[1;32m      4\u001b[0m \u001b[0;31m# pdata = json.load(json_obj)\u001b[0m\u001b[0;34m\u001b[0m\u001b[0;34m\u001b[0m\u001b[0;34m\u001b[0m\u001b[0m\n\u001b[0;32m----> 5\u001b[0;31m \u001b[0;32mwith\u001b[0m \u001b[0mopen\u001b[0m\u001b[0;34m(\u001b[0m\u001b[0;34m'csvjson (2).json'\u001b[0m\u001b[0;34m)\u001b[0m \u001b[0;32mas\u001b[0m \u001b[0mf\u001b[0m\u001b[0;34m:\u001b[0m\u001b[0;34m\u001b[0m\u001b[0;34m\u001b[0m\u001b[0m\n\u001b[0m\u001b[1;32m      6\u001b[0m     \u001b[0mdata\u001b[0m \u001b[0;34m=\u001b[0m \u001b[0mjson\u001b[0m\u001b[0;34m.\u001b[0m\u001b[0mload\u001b[0m\u001b[0;34m(\u001b[0m\u001b[0mf\u001b[0m\u001b[0;34m)\u001b[0m\u001b[0;34m\u001b[0m\u001b[0;34m\u001b[0m\u001b[0m\n",
      "\u001b[0;31mFileNotFoundError\u001b[0m: [Errno 2] No such file or directory: 'csvjson (2).json'"
     ]
    }
   ],
   "source": [
    "# api = 'http://127.0.0.1:8000/pdatas/'\n",
    "\n",
    "# json_obj = urlopen(api)\n",
    "# pdata = json.load(json_obj)\n",
    "with open('csvjson (2).json') as f:\n",
    "    data = json.load(f)"
   ]
  },
  {
   "cell_type": "code",
   "execution_count": null,
   "metadata": {},
   "outputs": [],
   "source": [
    "y = filter(lambda x:x['insect'] == \"Apis mellifera\", pdata)\n",
    "x = list(y)\n"
   ]
  },
  {
   "cell_type": "code",
   "execution_count": null,
   "metadata": {},
   "outputs": [],
   "source": [
    "lat = Counter(k['latitude'] for k in x)\n",
    "long = Counter(k['longitude'] for k in x)\n",
    "\n",
    "\n",
    "print(lat)\n",
    "print(long)\n"
   ]
  },
  {
   "cell_type": "code",
   "execution_count": null,
   "metadata": {},
   "outputs": [],
   "source": [
    "latlist = []\n",
    "longlist = []\n",
    "count = []\n",
    "for k in lat:\n",
    "    if k not in latlist:\n",
    "        latlist.append(k)\n",
    "        \n",
    "for k in long:\n",
    "    if k not in longlist:\n",
    "        longlist.append(k)\n",
    "        \n"
   ]
  },
  {
   "cell_type": "code",
   "execution_count": null,
   "metadata": {},
   "outputs": [],
   "source": [
    "p = Counter(k['plant'] for k in x)\n",
    "print(p)\n",
    "\n"
   ]
  },
  {
   "cell_type": "code",
   "execution_count": null,
   "metadata": {},
   "outputs": [],
   "source": [
    "i = []\n",
    "for k in p:\n",
    "    if k not in i:\n",
    "        i.append(k)\n",
    "        print(k)\n",
    "\n",
    "print(i)"
   ]
  },
  {
   "cell_type": "code",
   "execution_count": null,
   "metadata": {},
   "outputs": [],
   "source": [
    "df_counters = pd.DataFrame(\n",
    "    {\n",
    "     'latitude' : latlist,\n",
    "     'longitude' : longlist,\n",
    "        'plant': i\n",
    "    })\n",
    "df_counters.head()"
   ]
  },
  {
   "cell_type": "code",
   "execution_count": null,
   "metadata": {},
   "outputs": [],
   "source": [
    "locations = df_counters[['latitude','longitude']]\n",
    "locationlist=locations.values.tolist()\n",
    "len(locationlist)\n",
    "print(locationlist)\n",
    "newlist = []\n",
    "for k in locationlist:\n",
    "    j = [float(i) for i in k]\n",
    "    if j not in newlist:\n",
    "        newlist.append(j)\n",
    "print(newlist[1])\n"
   ]
  },
  {
   "cell_type": "code",
   "execution_count": null,
   "metadata": {},
   "outputs": [],
   "source": [
    "import folium\n",
    "\n",
    "\n"
   ]
  },
  {
   "cell_type": "code",
   "execution_count": null,
   "metadata": {},
   "outputs": [],
   "source": [
    "map = folium.Map(location=[42.70929, -88.23171], zoom_start=5,     tiles='Stamen Terrain'\n",
    ")\n",
    "for point in range(0, len(locationlist)):\n",
    "    folium.Marker(newlist[point], popup=df_counters['plant'][point]).add_to(map)\n",
    "map"
   ]
  },
  {
   "cell_type": "code",
   "execution_count": null,
   "metadata": {},
   "outputs": [],
   "source": [
    "p.values()\n",
    "count = p.values()\n"
   ]
  },
  {
   "cell_type": "code",
   "execution_count": null,
   "metadata": {},
   "outputs": [],
   "source": [
    "j = []\n",
    "for k in count:\n",
    "    j.append(k)\n",
    "print(j)        "
   ]
  },
  {
   "cell_type": "code",
   "execution_count": null,
   "metadata": {},
   "outputs": [],
   "source": [
    "\n",
    "\n",
    "def chartjs(chartType, data, options={}, width=\"700px\", height=\"400px\"):\n",
    "    \"\"\" Custom iphython extension allowing chartjs visualizations\n",
    "    \n",
    "    Usage:\n",
    "        chartjs(chartType, data, options, width=1000, height=400)\n",
    "    \n",
    "    Args:\n",
    "        chartType: one of the supported chart type options (line, bar, radar, polarArea, pie, doughnut)\n",
    "        data: a python dictionary with datasets to be rapresented and related visualization settings, as expected \n",
    "              by chart js (see data parameter in http://www.chartjs.org/docs/)\n",
    "        options: defaults {}; a python dictionary with additional graph options, as expected \n",
    "              by chart js (see options parameter in http://www.chartjs.org/docs/)\n",
    "        width: default 700px\n",
    "        height: default 400px\n",
    "        \n",
    "        NB. data and options structure depends on the chartType\n",
    "    \"\"\"\n",
    "    display(\n",
    "        Javascript(\"\"\"\n",
    "            require(['https://cdnjs.cloudflare.com/ajax/libs/Chart.js/1.0.2/Chart.min.js'], function(chartjs){\n",
    "                var chartType=\"%s\";\n",
    "                var data=%s;\n",
    "                var options=%s;\n",
    "                var width=\"%s\";\n",
    "                var height=\"%s\";\n",
    "                \n",
    "                element.append('<canvas width=\"' + width + '\" height=\"' + height + '\">s</canvas>');\n",
    "                var ctx = element.children()[0].getContext(\"2d\");\n",
    "                \n",
    "                switch(chartType.toLowerCase()) {\n",
    "                    \n",
    "                    case \"line\":\n",
    "                        var myChart = new Chart(ctx).Line(data, options);\n",
    "                        break;\n",
    "                    case \"bar\":\n",
    "                        var myChart = new Chart(ctx).Bar(data, options);\n",
    "                        break;\n",
    "                    case \"radar\":\n",
    "                        var myChart = new Chart(ctx).Radar(data, options);\n",
    "                        break;\n",
    "                    case \"polarArea\":\n",
    "                        var myChart = new Chart(ctx).PolarArea(data, options);\n",
    "                        break;\n",
    "                    case \"pie\":\n",
    "                        var myChart = new Chart(ctx).Pie(data, options);\n",
    "                        break;\n",
    "                    case \"doughnut\":\n",
    "                        var myChart = new Chart(ctx).Doughnut(data, options);\n",
    "                        break;\n",
    "                }\n",
    "            });\n",
    "            \"\"\" % (chartType, json.dumps(data), json.dumps(options), width, height)\n",
    "        )\n",
    "    )\n"
   ]
  },
  {
   "cell_type": "code",
   "execution_count": null,
   "metadata": {},
   "outputs": [],
   "source": [
    "#Sample extract from an IPython notebook:\n",
    "\n",
    "# %run chartjs-ipython.py\n",
    "\n",
    "data = {\n",
    "    \"labels\": i,\n",
    "    \"datasets\": [\n",
    "        {\n",
    "            \"label\": \"Sample dataset\",\n",
    "            \"fillColor\": \"rgba(151,187,205,0.2)\",\n",
    "            \"strokeColor\": \"rgba(151,187,205,1)\",\n",
    "            \"pointColor\": \"rgba(151,187,205,1)\",\n",
    "            \"pointStrokeColor\": \"#fff\",\n",
    "            \"pointHighlightFill\": \"#fff\",\n",
    "            \"pointHighlightStroke\": \"rgba(151,187,205,1)\",\n",
    "            \"data\": j\n",
    "        }\n",
    "]}\n",
    "\n",
    "chartjs(\"bar\", data)"
   ]
  },
  {
   "cell_type": "code",
   "execution_count": null,
   "metadata": {},
   "outputs": [],
   "source": []
  }
 ],
 "metadata": {
  "kernelspec": {
   "display_name": "Python 3",
   "language": "python",
   "name": "python3"
  },
  "language_info": {
   "codemirror_mode": {
    "name": "ipython",
    "version": 3
   },
   "file_extension": ".py",
   "mimetype": "text/x-python",
   "name": "python",
   "nbconvert_exporter": "python",
   "pygments_lexer": "ipython3",
   "version": "3.7.2"
  }
 },
 "nbformat": 4,
 "nbformat_minor": 2
}
